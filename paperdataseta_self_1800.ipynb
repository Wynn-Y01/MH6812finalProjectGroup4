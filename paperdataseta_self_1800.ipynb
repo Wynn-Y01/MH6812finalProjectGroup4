{
  "nbformat": 4,
  "nbformat_minor": 0,
  "metadata": {
    "colab": {
      "provenance": [],
      "toc_visible": true,
      "authorship_tag": "ABX9TyNtkN7yH7cU7oioHte1IpZN",
      "include_colab_link": true
    },
    "kernelspec": {
      "name": "python3",
      "display_name": "Python 3"
    },
    "language_info": {
      "name": "python"
    }
  },
  "cells": [
    {
      "cell_type": "markdown",
      "metadata": {
        "id": "view-in-github",
        "colab_type": "text"
      },
      "source": [
        "<a href=\"https://colab.research.google.com/github/Wynn-Y01/MH6812finalProjectGroup4/blob/main/paperdataseta_self_1800.ipynb\" target=\"_parent\"><img src=\"https://colab.research.google.com/assets/colab-badge.svg\" alt=\"Open In Colab\"/></a>"
      ]
    },
    {
      "cell_type": "markdown",
      "source": [
        "使用 arXiv API"
      ],
      "metadata": {
        "id": "Nx54crcnoVWw"
      }
    },
    {
      "cell_type": "code",
      "source": [
        "import time\n",
        "import pandas as pd\n",
        "import requests\n",
        "import xml.etree.ElementTree as ET\n",
        "\n",
        "# 定义函数，分批下载论文摘要\n",
        "def fetch_arxiv_papers(query=\"computer science\", batch_size=500, total_papers=2000):\n",
        "    base_url = \"http://export.arxiv.org/api/query?\"\n",
        "    all_papers = []\n",
        "\n",
        "    for i in range(0, total_papers, batch_size):\n",
        "        print(f\"下载 {i+1} - {i+batch_size} 篇论文摘要...\")\n",
        "        params = {\n",
        "            \"search_query\": query,\n",
        "            \"start\": i,\n",
        "            \"max_results\": batch_size,\n",
        "            \"sortBy\": \"relevance\",\n",
        "            \"sortOrder\": \"descending\"\n",
        "        }\n",
        "        response = requests.get(base_url, params=params)\n",
        "\n",
        "        if response.status_code == 200:\n",
        "            root = ET.fromstring(response.text)\n",
        "            for entry in root.findall(\"{http://www.w3.org/2005/Atom}entry\"):\n",
        "                title = entry.find(\"{http://www.w3.org/2005/Atom}title\").text\n",
        "                abstract = entry.find(\"{http://www.w3.org/2005/Atom}summary\").text.strip()\n",
        "                all_papers.append([title, abstract])\n",
        "        else:\n",
        "            print(f\"请求失败，状态码 {response.status_code}\")\n",
        "\n",
        "        time.sleep(2)  # 防止 API 速率限制\n",
        "\n",
        "    # 保存到 CSV 文件\n",
        "    df = pd.DataFrame(all_papers, columns=[\"title\", \"abstract\"])\n",
        "    df.to_csv(\"computer_science_papers.csv\", index=False, encoding=\"utf-8\")\n",
        "    print(f\"下载完成，总共 {len(df)} 篇论文摘要已保存！\")\n",
        "\n",
        "# 运行函数，获取 2000 篇计算机科学论文摘要\n",
        "fetch_arxiv_papers()\n"
      ],
      "metadata": {
        "colab": {
          "base_uri": "https://localhost:8080/"
        },
        "id": "7A6HXZCBoWwy",
        "outputId": "dcfece74-c7ad-4a88-898a-fe767f940d71"
      },
      "execution_count": null,
      "outputs": [
        {
          "output_type": "stream",
          "name": "stdout",
          "text": [
            "下载 1 - 500 篇论文摘要...\n",
            "下载 501 - 1000 篇论文摘要...\n",
            "下载 1001 - 1500 篇论文摘要...\n",
            "下载 1501 - 2000 篇论文摘要...\n",
            "下载完成，总共 1800 篇论文摘要已保存！\n"
          ]
        }
      ]
    }
  ]
}