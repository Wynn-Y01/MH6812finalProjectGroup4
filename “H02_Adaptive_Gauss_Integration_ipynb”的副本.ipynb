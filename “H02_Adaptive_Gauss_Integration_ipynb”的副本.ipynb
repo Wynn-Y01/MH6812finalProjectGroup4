{
  "cells": [
    {
      "cell_type": "markdown",
      "metadata": {
        "id": "view-in-github",
        "colab_type": "text"
      },
      "source": [
        "<a href=\"https://colab.research.google.com/github/Wynn-Y01/MH6812finalProjectGroup4/blob/main/%E2%80%9CH02_Adaptive_Gauss_Integration_ipynb%E2%80%9D%E7%9A%84%E5%89%AF%E6%9C%AC.ipynb\" target=\"_parent\"><img src=\"https://colab.research.google.com/assets/colab-badge.svg\" alt=\"Open In Colab\"/></a>"
      ]
    },
    {
      "cell_type": "markdown",
      "metadata": {
        "id": "vSC3w8cG9DLv"
      },
      "source": [
        "# Adaptive Gauss integration (Homework 02)\n",
        "In class we studied how to perform standard Gauss integration and local Gauss integration. In this homework we will try to improve the latter.\n",
        "\n",
        "The local Gauss integration is not fully satisfactory. The reason is that it asks the user to provide the number of splits of the integration domain. However that is a rather technical detail, since the user is only interested in the precision of the numerical method, not the way the numerical method achieves that precision.\n",
        "\n",
        "We would like to make a program that takes:\n",
        "- function to integrate\n",
        "- left limit of integration\n",
        "- right limit of integration\n",
        "- desired tolerance\n",
        "\n",
        "and than decides by itself how many splits are required.\n",
        "\n",
        "To achieve that we can use a very similar idea to the one we used for adaptive step in Runge-Kutta with step doubling.\n",
        "\n",
        "The program should\n",
        "- Integrate with an initial choice of a number of splits\n",
        "- Integrate with twice as many splits\n",
        "- Estimate the error (you have to figure out how to estimate the error: use similar ideas as for adaptive step in Runge-Kutta with step doubling)\n",
        "- Guess a new number of splits to achieve the desired precision (again you have to figure out how to do that: use similar ideas as for adaptive step in Runge-Kutta with step doubling)\n",
        "- Try the new number of splits and if the desired accuracy has been reached output the result, otherwise repeat the strategy above until the accuracy is reached\n",
        "\n",
        "Use the fact that local Gauss quadrature has an order of convergence which is 2 times its order.\n",
        "\n",
        "Notice, you are free to use the programs that we developed in class."
      ]
    },
    {
      "cell_type": "code",
      "execution_count": null,
      "metadata": {
        "scrolled": false,
        "id": "aOnWwpna9DLz"
      },
      "outputs": [],
      "source": [
        "import numpy as np\n",
        "\n",
        "def gauss_integrate(functToIntegr, xmin, xmax, order):\n",
        "    \"\"\"\n",
        "    使用高斯求积计算 f 在 [xmin, xmax] 之间的积分。\n",
        "    \"\"\"\n",
        "    if order < 1:\n",
        "        raise ValueError(\"The order of Gauss Integration must be positive\")\n",
        "    if order > 5:\n",
        "        raise NotImplementedError(\"The maximum implemented order for Gauss Integration is 5\")\n",
        "\n",
        "    # 高斯求积点与权重\n",
        "    xGauss = [np.array([0.0]),\n",
        "              np.array([-0.577350269189625, 0.577350269189625]),\n",
        "              np.array([-0.7745966692414834, 0.0, 0.7745966692414834]),\n",
        "              np.array([-0.8611363115940526, -0.3399810435848563, 0.3399810435848563, 0.8611363115940526]),\n",
        "              np.array([-0.9061798459386640, -0.5384693101056831, 0.0, 0.5384693101056831, 0.9061798459386640])]\n",
        "\n",
        "    wGauss = [np.array([2.0]),\n",
        "              np.array([1.0000000000000000, 1.0000000000000000]),\n",
        "              np.array([0.5555555555555556, 0.8888888888888888, 0.5555555555555556]),\n",
        "              np.array([0.3478548451374538, 0.6521451548625461, 0.6521451548625461, 0.3478548451374538]),\n",
        "              np.array([0.2369268850561891, 0.4786286704993665, 0.5688888888888889, 0.4786286704993665, 0.2369268850561891])]\n",
        "\n",
        "    # 变换积分区间\n",
        "    return (xmax - xmin) / 2.0 * np.sum(wGauss[order-1] * functToIntegr((xmin + xmax) / 2.0 + xGauss[order-1] * (xmax - xmin) / 2.0))\n",
        "def adaptiveGaussIntegration(functToIntegr, xmin, xmax, order, tolerance, maxSplitNumber=100):\n",
        "    \"\"\"\n",
        "    使用自适应高斯积分计算数值积分，并输出每次迭代的信息。\n",
        "    \"\"\"\n",
        "    def Adaptive_integrate(functToIntegr, xmin, xmax, order, tolerance, depth=0):\n",
        "        I1 = gauss_integrate(functToIntegr, xmin, xmax, order)  # 单次高斯积分\n",
        "        mid = (xmin + xmax) / 2\n",
        "        I2 = (gauss_integrate(functToIntegr, xmin, mid, order) +\n",
        "              gauss_integrate(functToIntegr, mid, xmax, order))  # 两次高斯积分\n",
        "\n",
        "        error = abs(I1 - I2)\n",
        "\n",
        "        # 记录当前迭代的信息\n",
        "        print(f\"depth: {depth}: Splits={2 ** depth}, Integral={I2:.6f}, Error={error:.2e}\")\n",
        "\n",
        "        if error < tolerance or depth >= maxSplitNumber:\n",
        "            return I2\n",
        "        else:\n",
        "            return (Adaptive_integrate(functToIntegr, xmin, mid, order, tolerance, depth + 1) +\n",
        "                    Adaptive_integrate(functToIntegr, mid, xmax, order, tolerance, depth + 1))\n",
        "\n",
        "    # 计算最终积分值\n",
        "    integral = Adaptive_integrate(functToIntegr, xmin, xmax, order, tolerance)\n",
        "    return integral\n"
      ]
    },
    {
      "cell_type": "markdown",
      "metadata": {
        "id": "4JF3Os849DLz"
      },
      "source": [
        "Now test your result. Try to integrate\n",
        "\n",
        "\\begin{equation}\n",
        "    \\int_0^{100} \\sin(x) dx\n",
        "\\end{equation}\n",
        "\n",
        "The exact result is\n",
        "\n",
        "0.1376811277123160658980614860491574644899159914644891707198378873072789119490733758969048943157227149\n",
        "\n",
        "Print the difference between your result and the exact solution. Is the difference similar to the tolerance you set?"
      ]
    },
    {
      "cell_type": "code",
      "execution_count": null,
      "metadata": {
        "colab": {
          "base_uri": "https://localhost:8080/"
        },
        "id": "WPCH_qJW9DLz",
        "outputId": "0ef7adea-8542-4079-b443-f80c563619b1"
      },
      "outputs": [
        {
          "output_type": "stream",
          "name": "stdout",
          "text": [
            "depth: 0: Splits=1, Integral=-10.325099, Error=4.10e+00\n",
            "depth: 1: Splits=2, Integral=-5.236559, Error=2.61e+00\n",
            "depth: 2: Splits=4, Integral=-0.017643, Error=1.30e+00\n",
            "depth: 3: Splits=8, Integral=0.002214, Error=6.63e-03\n",
            "depth: 4: Splits=16, Integral=0.000551, Error=3.04e-06\n",
            "depth: 5: Splits=32, Integral=1.999862, Error=1.04e-07\n",
            "depth: 6: Splits=64, Integral=0.991704, Error=3.71e-11\n",
            "depth: 6: Splits=64, Integral=1.008159, Error=3.78e-11\n",
            "depth: 5: Splits=32, Integral=-1.999312, Error=1.04e-07\n",
            "depth: 6: Splits=64, Integral=-0.974976, Error=3.65e-11\n",
            "depth: 6: Splits=64, Integral=-1.024336, Error=3.84e-11\n",
            "depth: 4: Splits=16, Integral=0.001651, Error=9.11e-06\n",
            "depth: 5: Splits=32, Integral=1.998211, Error=1.04e-07\n",
            "depth: 6: Splits=64, Integral=0.957980, Error=3.59e-11\n",
            "depth: 6: Splits=64, Integral=1.040231, Error=3.90e-11\n",
            "depth: 5: Splits=32, Integral=-1.996560, Error=1.04e-07\n",
            "depth: 6: Splits=64, Integral=-0.940720, Error=3.52e-11\n",
            "depth: 6: Splits=64, Integral=-1.055840, Error=3.95e-11\n",
            "depth: 3: Splits=8, Integral=0.006632, Error=1.99e-02\n",
            "depth: 4: Splits=16, Integral=0.002750, Error=1.52e-05\n",
            "depth: 5: Splits=32, Integral=1.994359, Error=1.04e-07\n",
            "depth: 6: Splits=64, Integral=0.923201, Error=3.46e-11\n",
            "depth: 6: Splits=64, Integral=1.071158, Error=4.01e-11\n",
            "depth: 5: Splits=32, Integral=-1.991609, Error=1.04e-07\n",
            "depth: 6: Splits=64, Integral=-0.905428, Error=3.39e-11\n",
            "depth: 6: Splits=64, Integral=-1.086181, Error=4.07e-11\n",
            "depth: 4: Splits=16, Integral=0.003846, Error=2.12e-05\n",
            "depth: 5: Splits=32, Integral=1.988311, Error=1.03e-07\n",
            "depth: 6: Splits=64, Integral=0.887405, Error=3.32e-11\n",
            "depth: 6: Splits=64, Integral=1.100906, Error=4.12e-11\n",
            "depth: 5: Splits=32, Integral=-1.984465, Error=1.03e-07\n",
            "depth: 6: Splits=64, Integral=-0.869138, Error=3.26e-11\n",
            "depth: 6: Splits=64, Integral=-1.115327, Error=4.18e-11\n",
            "depth: 2: Splits=4, Integral=-0.052618, Error=3.87e+00\n",
            "depth: 3: Splits=8, Integral=0.011021, Error=3.30e-02\n",
            "depth: 4: Splits=16, Integral=0.004937, Error=2.72e-05\n",
            "depth: 5: Splits=32, Integral=1.980073, Error=1.03e-07\n",
            "depth: 6: Splits=64, Integral=0.850632, Error=3.19e-11\n",
            "depth: 6: Splits=64, Integral=1.129441, Error=4.23e-11\n",
            "depth: 5: Splits=32, Integral=-1.975136, Error=1.03e-07\n",
            "depth: 6: Splits=64, Integral=-0.831892, Error=3.12e-11\n",
            "depth: 6: Splits=64, Integral=-1.143244, Error=4.28e-11\n",
            "depth: 4: Splits=16, Integral=0.006023, Error=3.32e-05\n",
            "depth: 5: Splits=32, Integral=1.969655, Error=1.02e-07\n",
            "depth: 6: Splits=64, Integral=0.812923, Error=3.04e-11\n",
            "depth: 6: Splits=64, Integral=1.156732, Error=4.33e-11\n",
            "depth: 5: Splits=32, Integral=-1.963632, Error=1.02e-07\n",
            "depth: 6: Splits=64, Integral=-0.793730, Error=2.97e-11\n",
            "depth: 6: Splits=64, Integral=-1.169902, Error=4.38e-11\n",
            "depth: 3: Splits=8, Integral=0.015361, Error=4.60e-02\n",
            "depth: 4: Splits=16, Integral=0.007103, Error=3.92e-05\n",
            "depth: 5: Splits=32, Integral=1.957068, Error=1.02e-07\n",
            "depth: 6: Splits=64, Integral=0.774318, Error=2.90e-11\n",
            "depth: 6: Splits=64, Integral=1.182750, Error=4.43e-11\n",
            "depth: 5: Splits=32, Integral=-1.949966, Error=1.01e-07\n",
            "depth: 6: Splits=64, Integral=-0.754694, Error=2.83e-11\n",
            "depth: 6: Splits=64, Integral=-1.195272, Error=4.48e-11\n",
            "depth: 4: Splits=16, Integral=0.008174, Error=4.51e-05\n",
            "depth: 5: Splits=32, Integral=1.942327, Error=1.01e-07\n",
            "depth: 6: Splits=64, Integral=0.734861, Error=2.75e-11\n",
            "depth: 6: Splits=64, Integral=1.207466, Error=4.52e-11\n",
            "depth: 5: Splits=32, Integral=-1.934153, Error=1.01e-07\n",
            "depth: 6: Splits=64, Integral=-0.714826, Error=2.68e-11\n",
            "depth: 6: Splits=64, Integral=-1.219326, Error=4.57e-11\n",
            "depth: 1: Splits=2, Integral=-15.342761, Error=7.64e+00\n",
            "depth: 2: Splits=4, Integral=-0.086668, Error=6.37e+00\n",
            "depth: 3: Splits=8, Integral=0.019633, Error=5.88e-02\n",
            "depth: 4: Splits=16, Integral=0.009237, Error=5.09e-05\n",
            "depth: 5: Splits=32, Integral=1.925446, Error=1.00e-07\n",
            "depth: 6: Splits=64, Integral=0.694595, Error=2.60e-11\n",
            "depth: 6: Splits=64, Integral=1.230851, Error=4.61e-11\n",
            "depth: 5: Splits=32, Integral=-1.916209, Error=9.97e-08\n",
            "depth: 6: Splits=64, Integral=-0.674172, Error=2.52e-11\n",
            "depth: 6: Splits=64, Integral=-1.242037, Error=4.65e-11\n",
            "depth: 4: Splits=16, Integral=0.010289, Error=5.67e-05\n",
            "depth: 5: Splits=32, Integral=1.906445, Error=9.92e-08\n",
            "depth: 6: Splits=64, Integral=0.653563, Error=2.45e-11\n",
            "depth: 6: Splits=64, Integral=1.252882, Error=4.69e-11\n",
            "depth: 5: Splits=32, Integral=-1.896156, Error=9.86e-08\n",
            "depth: 6: Splits=64, Integral=-0.632775, Error=2.37e-11\n",
            "depth: 6: Splits=64, Integral=-1.263381, Error=4.73e-11\n",
            "depth: 3: Splits=8, Integral=0.023820, Error=7.13e-02\n",
            "depth: 4: Splits=16, Integral=0.011330, Error=6.25e-05\n",
            "depth: 5: Splits=32, Integral=1.885345, Error=9.81e-08\n",
            "depth: 6: Splits=64, Integral=0.611812, Error=2.29e-11\n",
            "depth: 6: Splits=64, Integral=1.273532, Error=4.77e-11\n",
            "depth: 5: Splits=32, Integral=-1.874015, Error=9.75e-08\n",
            "depth: 6: Splits=64, Integral=-0.590681, Error=2.21e-11\n",
            "depth: 6: Splits=64, Integral=-1.283333, Error=4.81e-11\n",
            "depth: 4: Splits=16, Integral=0.012359, Error=6.82e-05\n",
            "depth: 5: Splits=32, Integral=1.862168, Error=9.69e-08\n",
            "depth: 6: Splits=64, Integral=0.569388, Error=2.13e-11\n",
            "depth: 6: Splits=64, Integral=1.292781, Error=4.84e-11\n",
            "depth: 5: Splits=32, Integral=-1.849810, Error=9.62e-08\n",
            "depth: 6: Splits=64, Integral=-0.547937, Error=2.05e-11\n",
            "depth: 6: Splits=64, Integral=-1.301872, Error=4.88e-11\n",
            "depth: 2: Splits=4, Integral=-0.119192, Error=8.76e+00\n",
            "depth: 3: Splits=8, Integral=0.027901, Error=8.35e-02\n",
            "depth: 4: Splits=16, Integral=0.013374, Error=7.37e-05\n",
            "depth: 5: Splits=32, Integral=1.836942, Error=9.55e-08\n",
            "depth: 6: Splits=64, Integral=0.526336, Error=1.97e-11\n",
            "depth: 6: Splits=64, Integral=1.310606, Error=4.91e-11\n",
            "depth: 5: Splits=32, Integral=-1.823568, Error=9.49e-08\n",
            "depth: 6: Splits=64, Integral=-0.504590, Error=1.89e-11\n",
            "depth: 6: Splits=64, Integral=-1.318978, Error=4.94e-11\n",
            "depth: 4: Splits=16, Integral=0.014374, Error=7.93e-05\n",
            "depth: 5: Splits=32, Integral=1.809692, Error=9.41e-08\n",
            "depth: 6: Splits=64, Integral=0.482705, Error=1.81e-11\n",
            "depth: 6: Splits=64, Integral=1.326987, Error=4.97e-11\n",
            "depth: 5: Splits=32, Integral=-1.795318, Error=9.34e-08\n",
            "depth: 6: Splits=64, Integral=-0.460687, Error=1.73e-11\n",
            "depth: 6: Splits=64, Integral=-1.334631, Error=5.00e-11\n",
            "depth: 3: Splits=8, Integral=0.031859, Error=9.54e-02\n",
            "depth: 4: Splits=16, Integral=0.015359, Error=8.47e-05\n",
            "depth: 5: Splits=32, Integral=1.780450, Error=9.26e-08\n",
            "depth: 6: Splits=64, Integral=0.438542, Error=1.64e-11\n",
            "depth: 6: Splits=64, Integral=1.341908, Error=5.03e-11\n",
            "depth: 5: Splits=32, Integral=-1.765091, Error=9.18e-08\n",
            "depth: 6: Splits=64, Integral=-0.416276, Error=1.56e-11\n",
            "depth: 6: Splits=64, Integral=-1.348815, Error=5.05e-11\n",
            "depth: 4: Splits=16, Integral=0.016326, Error=9.00e-05\n",
            "depth: 5: Splits=32, Integral=1.749247, Error=9.10e-08\n",
            "depth: 6: Splits=64, Integral=0.393896, Error=1.48e-11\n",
            "depth: 6: Splits=64, Integral=1.355351, Error=5.08e-11\n",
            "depth: 5: Splits=32, Integral=-1.732921, Error=9.01e-08\n",
            "depth: 6: Splits=64, Integral=-0.371408, Error=1.39e-11\n",
            "depth: 6: Splits=64, Integral=-1.361513, Error=5.10e-11\n"
          ]
        },
        {
          "output_type": "execute_result",
          "data": {
            "text/plain": [
              "5.2735593669694936e-15"
            ]
          },
          "metadata": {},
          "execution_count": 13
        }
      ],
      "source": [
        "adaptiveGaussIntegration(lambda x: np.sin(x), 0, 100, 5, 1.e-10)-0.13768112771231606589806148604915746448991599146448917071983788730727"
      ]
    },
    {
      "cell_type": "markdown",
      "metadata": {
        "id": "1xT2QNAb9DLz"
      },
      "source": [
        "# Locally adaptive grid with Gauss integration [Difficult! NOT GRADED!!]\n",
        "\n",
        "This part is **considerably more difficult** than the previous one.\n",
        "This will **not be graded**. Also be careful as, depending on how good you are in programming, it might require a lot of time. It also requires using recursion. This part is provided only for students who want an extra challenge and have the time to face it.\n",
        "\n",
        "When integrating, it turns out that not all the parts of a function are equally difficult to integrate. It is intuitive to imagine that if a function is relatively smooth on some part of the domain, it should be easy to integrate, while parts where it changes very rapidly should give more troubles to our numerical algorithm.\n",
        "\n",
        "Look for instance at this integral\n",
        "\n",
        "\\begin{equation}\n",
        "    \\int_0^{5} \\sin(x^2)\n",
        "\\end{equation}"
      ]
    },
    {
      "cell_type": "code",
      "execution_count": null,
      "metadata": {
        "id": "oUd6UADi9DLz",
        "outputId": "2d717c88-ee8a-4d0f-a38c-937742fb02a7"
      },
      "outputs": [
        {
          "data": {
            "image/png": "[encoded data removed]",
            "text/plain": [
              "<Figure size 432x288 with 1 Axes>"
            ]
          },
          "metadata": {
            "needs_background": "light"
          },
          "output_type": "display_data"
        }
      ],
      "source": [
        "import numpy as np\n",
        "import matplotlib.pyplot as plt\n",
        "\n",
        "x = np.linspace(0,5,1000)\n",
        "plt.plot(x, np.sin(x**3));"
      ]
    },
    {
      "cell_type": "markdown",
      "metadata": {
        "id": "dUzvC0ES9DL0"
      },
      "source": [
        "The regions close to 0 should be relatively easy to integrate, while as we move to larger x, the function oscillates more and more wildly, and should require higher precision.\n",
        "\n",
        "We can use our local Gauss integration with a very large number of splits. However that becomes very wasteful at small x, where a rather coarse mesh should be sufficient.\n",
        "\n",
        "We need to split our integral in pieces\n",
        "\n",
        "\\begin{equation}\n",
        "    \\int_0^{5} \\sin(x^2) = \\int_0^{x_1} \\sin(x^2) + \\int_{x_1}^{x_2} \\sin(x^2) + \\int_{x_2}^{x_3} \\sin(x^2) + ...\n",
        "\\end{equation}\n",
        "\n",
        "but where the early pieces are larger, and later pieces are smaller.\n",
        "\n",
        "The choice of how to split the integration domain could be done by hand for the function above, but again that is a rather unsatisfactory solution since that is not general. Moreover it is not automatic, and requires a lot of human time.\n",
        "\n",
        "We here want to construct a method that locally refines the mesh, but only where needed."
      ]
    },
    {
      "cell_type": "markdown",
      "metadata": {
        "id": "UGpHjcM69DL0"
      },
      "source": [
        "The idea is to split the integration domain in 2 elements, use the idea above to estimate the error. If the error is not satisfying, the two integrals over the two elements are attempted separately.\n",
        "For each one of them, the error is computed and for each one of them a decision is taken as to whether one needs to split further, and so on and so forth. Notice, one should keep splitting only the part of the domain over which the error is not acceptable.\n",
        "\n",
        "The easiest way to implement the algorithm above is by using recursion."
      ]
    },
    {
      "cell_type": "code",
      "execution_count": null,
      "metadata": {
        "id": "mFIG-XhW9DL0"
      },
      "outputs": [],
      "source": [
        "import numpy as np\n",
        "import torch\n",
        "import torch.nn as nn\n",
        "import torch.optim as optim\n",
        "from torch.utils.data import DataLoader, TensorDataset\n",
        "\n",
        "# 高斯积分方法（假设有 gauss_integrate 函数）\n",
        "def gauss_integrate(f, a, b, order=5):\n",
        "    \"\"\"计算区间 [a,b] 上的高斯积分\"\"\"\n",
        "    x, w = np.polynomial.legendre.leggauss(order)\n",
        "    x_mapped = 0.5 * (b - a) * x + 0.5 * (a + b)\n",
        "    return 0.5 * (b - a) * np.sum(w * f(x_mapped))\n",
        "\n",
        "# 生成训练数据\n",
        "def generate_data(n_samples=1000, n_points=50):\n",
        "    X, Y = [], []\n",
        "    for _ in range(n_samples):\n",
        "        a, b = np.random.uniform(0, 10, 2)  # 随机区间\n",
        "        if a > b: a, b = b, a\n",
        "        f = lambda x: np.sin(x**2)  # 振荡函数\n",
        "        integral_full = gauss_integrate(f, a, b, order=5)\n",
        "\n",
        "        # 计算分裂误差\n",
        "        mid = (a + b) / 2\n",
        "        integral_split = (gauss_integrate(f, a, mid, order=5) +\n",
        "                          gauss_integrate(f, mid, b, order=5))\n",
        "        error = abs(integral_full - integral_split)\n",
        "\n",
        "        # 取样区间内的 f(x) 作为 CNN 输入\n",
        "        x_values = np.linspace(a, b, n_points)\n",
        "        f_values = f(x_values)\n",
        "\n",
        "        X.append(f_values)\n",
        "        Y.append(1 if error > 0.01 else 0)  # 误差大于阈值则细分\n",
        "    return np.array(X), np.array(Y)\n",
        "\n",
        "# 生成数据\n",
        "X_data, Y_data = generate_data()\n",
        "X_tensor = torch.tensor(X_data, dtype=torch.float32)\n",
        "Y_tensor = torch.tensor(Y_data, dtype=torch.float32).unsqueeze(1)\n",
        "\n",
        "# 创建数据集\n",
        "dataset = TensorDataset(X_tensor, Y_tensor)\n",
        "dataloader = DataLoader(dataset, batch_size=32, shuffle=True)\n"
      ]
    },
    {
      "cell_type": "code",
      "source": [
        "class AdaptiveIntegrationCNN(nn.Module):\n",
        "    def __init__(self):\n",
        "        super(AdaptiveIntegrationCNN, self).__init__()\n",
        "        self.conv1 = nn.Conv1d(in_channels=1, out_channels=16, kernel_size=3, padding=1)\n",
        "        self.conv2 = nn.Conv1d(in_channels=16, out_channels=32, kernel_size=3, padding=1)\n",
        "        self.pool = nn.MaxPool1d(kernel_size=2)\n",
        "        self.fc1 = nn.Linear(32 * 25, 64)\n",
        "        self.fc2 = nn.Linear(64, 1)\n",
        "        self.sigmoid = nn.Sigmoid()\n",
        "\n",
        "    def forward(self, x):\n",
        "        x = x.unsqueeze(1)  # (batch, 1, n_points)\n",
        "        x = self.pool(torch.relu(self.conv1(x)))\n",
        "        x = self.pool(torch.relu(self.conv2(x)))\n",
        "        x = x.view(x.size(0), -1)  # Flatten\n",
        "        x = torch.relu(self.fc1(x))\n",
        "        x = self.sigmoid(self.fc2(x))\n",
        "        return x\n"
      ],
      "metadata": {
        "id": "ckcJL3-eBB6m"
      },
      "execution_count": null,
      "outputs": []
    },
    {
      "cell_type": "code",
      "source": [
        "# 创建模型\n",
        "model = AdaptiveIntegrationCNN()\n",
        "criterion = nn.BCELoss()  # 适用于二分类\n",
        "optimizer = optim.Adam(model.parameters(), lr=0.001)\n",
        "\n",
        "# 训练过程\n",
        "n_epochs = 10\n",
        "for epoch in range(n_epochs):\n",
        "    for batch in dataloader:\n",
        "        X_batch, Y_batch = batch\n",
        "        optimizer.zero_grad()\n",
        "        outputs = model(X_batch)\n",
        "        loss = criterion(outputs, Y_batch)\n",
        "        loss.backward()\n",
        "        optimizer.step()\n",
        "    print(f\"Epoch {epoch+1}/{n_epochs}, Loss: {loss.item():.6f}\")\n"
      ],
      "metadata": {
        "colab": {
          "base_uri": "https://localhost:8080/",
          "height": 365
        },
        "id": "QEDHXbB6BFpS",
        "outputId": "60e2e888-632b-40e0-e527-1644565435a2"
      },
      "execution_count": null,
      "outputs": [
        {
          "output_type": "error",
          "ename": "RuntimeError",
          "evalue": "mat1 and mat2 shapes cannot be multiplied (32x384 and 800x64)",
          "traceback": [
            "\u001b[0;31m---------------------------------------------------------------------------\u001b[0m",
            "\u001b[0;31mRuntimeError\u001b[0m                              Traceback (most recent call last)",
            "\u001b[0;32m<ipython-input-5-bbcfa232f824>\u001b[0m in \u001b[0;36m<cell line: 0>\u001b[0;34m()\u001b[0m\n\u001b[1;32m     10\u001b[0m         \u001b[0mX_batch\u001b[0m\u001b[0;34m,\u001b[0m \u001b[0mY_batch\u001b[0m \u001b[0;34m=\u001b[0m \u001b[0mbatch\u001b[0m\u001b[0;34m\u001b[0m\u001b[0;34m\u001b[0m\u001b[0m\n\u001b[1;32m     11\u001b[0m         \u001b[0moptimizer\u001b[0m\u001b[0;34m.\u001b[0m\u001b[0mzero_grad\u001b[0m\u001b[0;34m(\u001b[0m\u001b[0;34m)\u001b[0m\u001b[0;34m\u001b[0m\u001b[0;34m\u001b[0m\u001b[0m\n\u001b[0;32m---> 12\u001b[0;31m         \u001b[0moutputs\u001b[0m \u001b[0;34m=\u001b[0m \u001b[0mmodel\u001b[0m\u001b[0;34m(\u001b[0m\u001b[0mX_batch\u001b[0m\u001b[0;34m)\u001b[0m\u001b[0;34m\u001b[0m\u001b[0;34m\u001b[0m\u001b[0m\n\u001b[0m\u001b[1;32m     13\u001b[0m         \u001b[0mloss\u001b[0m \u001b[0;34m=\u001b[0m \u001b[0mcriterion\u001b[0m\u001b[0;34m(\u001b[0m\u001b[0moutputs\u001b[0m\u001b[0;34m,\u001b[0m \u001b[0mY_batch\u001b[0m\u001b[0;34m)\u001b[0m\u001b[0;34m\u001b[0m\u001b[0;34m\u001b[0m\u001b[0m\n\u001b[1;32m     14\u001b[0m         \u001b[0mloss\u001b[0m\u001b[0;34m.\u001b[0m\u001b[0mbackward\u001b[0m\u001b[0;34m(\u001b[0m\u001b[0;34m)\u001b[0m\u001b[0;34m\u001b[0m\u001b[0;34m\u001b[0m\u001b[0m\n",
            "\u001b[0;32m/usr/local/lib/python3.11/dist-packages/torch/nn/modules/module.py\u001b[0m in \u001b[0;36m_wrapped_call_impl\u001b[0;34m(self, *args, **kwargs)\u001b[0m\n\u001b[1;32m   1734\u001b[0m             \u001b[0;32mreturn\u001b[0m \u001b[0mself\u001b[0m\u001b[0;34m.\u001b[0m\u001b[0m_compiled_call_impl\u001b[0m\u001b[0;34m(\u001b[0m\u001b[0;34m*\u001b[0m\u001b[0margs\u001b[0m\u001b[0;34m,\u001b[0m \u001b[0;34m**\u001b[0m\u001b[0mkwargs\u001b[0m\u001b[0;34m)\u001b[0m  \u001b[0;31m# type: ignore[misc]\u001b[0m\u001b[0;34m\u001b[0m\u001b[0;34m\u001b[0m\u001b[0m\n\u001b[1;32m   1735\u001b[0m         \u001b[0;32melse\u001b[0m\u001b[0;34m:\u001b[0m\u001b[0;34m\u001b[0m\u001b[0;34m\u001b[0m\u001b[0m\n\u001b[0;32m-> 1736\u001b[0;31m             \u001b[0;32mreturn\u001b[0m \u001b[0mself\u001b[0m\u001b[0;34m.\u001b[0m\u001b[0m_call_impl\u001b[0m\u001b[0;34m(\u001b[0m\u001b[0;34m*\u001b[0m\u001b[0margs\u001b[0m\u001b[0;34m,\u001b[0m \u001b[0;34m**\u001b[0m\u001b[0mkwargs\u001b[0m\u001b[0;34m)\u001b[0m\u001b[0;34m\u001b[0m\u001b[0;34m\u001b[0m\u001b[0m\n\u001b[0m\u001b[1;32m   1737\u001b[0m \u001b[0;34m\u001b[0m\u001b[0m\n\u001b[1;32m   1738\u001b[0m     \u001b[0;31m# torchrec tests the code consistency with the following code\u001b[0m\u001b[0;34m\u001b[0m\u001b[0;34m\u001b[0m\u001b[0m\n",
            "\u001b[0;32m/usr/local/lib/python3.11/dist-packages/torch/nn/modules/module.py\u001b[0m in \u001b[0;36m_call_impl\u001b[0;34m(self, *args, **kwargs)\u001b[0m\n\u001b[1;32m   1745\u001b[0m                 \u001b[0;32mor\u001b[0m \u001b[0m_global_backward_pre_hooks\u001b[0m \u001b[0;32mor\u001b[0m \u001b[0m_global_backward_hooks\u001b[0m\u001b[0;34m\u001b[0m\u001b[0;34m\u001b[0m\u001b[0m\n\u001b[1;32m   1746\u001b[0m                 or _global_forward_hooks or _global_forward_pre_hooks):\n\u001b[0;32m-> 1747\u001b[0;31m             \u001b[0;32mreturn\u001b[0m \u001b[0mforward_call\u001b[0m\u001b[0;34m(\u001b[0m\u001b[0;34m*\u001b[0m\u001b[0margs\u001b[0m\u001b[0;34m,\u001b[0m \u001b[0;34m**\u001b[0m\u001b[0mkwargs\u001b[0m\u001b[0;34m)\u001b[0m\u001b[0;34m\u001b[0m\u001b[0;34m\u001b[0m\u001b[0m\n\u001b[0m\u001b[1;32m   1748\u001b[0m \u001b[0;34m\u001b[0m\u001b[0m\n\u001b[1;32m   1749\u001b[0m         \u001b[0mresult\u001b[0m \u001b[0;34m=\u001b[0m \u001b[0;32mNone\u001b[0m\u001b[0;34m\u001b[0m\u001b[0;34m\u001b[0m\u001b[0m\n",
            "\u001b[0;32m<ipython-input-4-4ba6f7236443>\u001b[0m in \u001b[0;36mforward\u001b[0;34m(self, x)\u001b[0m\n\u001b[1;32m     14\u001b[0m         \u001b[0mx\u001b[0m \u001b[0;34m=\u001b[0m \u001b[0mself\u001b[0m\u001b[0;34m.\u001b[0m\u001b[0mpool\u001b[0m\u001b[0;34m(\u001b[0m\u001b[0mtorch\u001b[0m\u001b[0;34m.\u001b[0m\u001b[0mrelu\u001b[0m\u001b[0;34m(\u001b[0m\u001b[0mself\u001b[0m\u001b[0;34m.\u001b[0m\u001b[0mconv2\u001b[0m\u001b[0;34m(\u001b[0m\u001b[0mx\u001b[0m\u001b[0;34m)\u001b[0m\u001b[0;34m)\u001b[0m\u001b[0;34m)\u001b[0m\u001b[0;34m\u001b[0m\u001b[0;34m\u001b[0m\u001b[0m\n\u001b[1;32m     15\u001b[0m         \u001b[0mx\u001b[0m \u001b[0;34m=\u001b[0m \u001b[0mx\u001b[0m\u001b[0;34m.\u001b[0m\u001b[0mview\u001b[0m\u001b[0;34m(\u001b[0m\u001b[0mx\u001b[0m\u001b[0;34m.\u001b[0m\u001b[0msize\u001b[0m\u001b[0;34m(\u001b[0m\u001b[0;36m0\u001b[0m\u001b[0;34m)\u001b[0m\u001b[0;34m,\u001b[0m \u001b[0;34m-\u001b[0m\u001b[0;36m1\u001b[0m\u001b[0;34m)\u001b[0m  \u001b[0;31m# Flatten\u001b[0m\u001b[0;34m\u001b[0m\u001b[0;34m\u001b[0m\u001b[0m\n\u001b[0;32m---> 16\u001b[0;31m         \u001b[0mx\u001b[0m \u001b[0;34m=\u001b[0m \u001b[0mtorch\u001b[0m\u001b[0;34m.\u001b[0m\u001b[0mrelu\u001b[0m\u001b[0;34m(\u001b[0m\u001b[0mself\u001b[0m\u001b[0;34m.\u001b[0m\u001b[0mfc1\u001b[0m\u001b[0;34m(\u001b[0m\u001b[0mx\u001b[0m\u001b[0;34m)\u001b[0m\u001b[0;34m)\u001b[0m\u001b[0;34m\u001b[0m\u001b[0;34m\u001b[0m\u001b[0m\n\u001b[0m\u001b[1;32m     17\u001b[0m         \u001b[0mx\u001b[0m \u001b[0;34m=\u001b[0m \u001b[0mself\u001b[0m\u001b[0;34m.\u001b[0m\u001b[0msigmoid\u001b[0m\u001b[0;34m(\u001b[0m\u001b[0mself\u001b[0m\u001b[0;34m.\u001b[0m\u001b[0mfc2\u001b[0m\u001b[0;34m(\u001b[0m\u001b[0mx\u001b[0m\u001b[0;34m)\u001b[0m\u001b[0;34m)\u001b[0m\u001b[0;34m\u001b[0m\u001b[0;34m\u001b[0m\u001b[0m\n\u001b[1;32m     18\u001b[0m         \u001b[0;32mreturn\u001b[0m \u001b[0mx\u001b[0m\u001b[0;34m\u001b[0m\u001b[0;34m\u001b[0m\u001b[0m\n",
            "\u001b[0;32m/usr/local/lib/python3.11/dist-packages/torch/nn/modules/module.py\u001b[0m in \u001b[0;36m_wrapped_call_impl\u001b[0;34m(self, *args, **kwargs)\u001b[0m\n\u001b[1;32m   1734\u001b[0m             \u001b[0;32mreturn\u001b[0m \u001b[0mself\u001b[0m\u001b[0;34m.\u001b[0m\u001b[0m_compiled_call_impl\u001b[0m\u001b[0;34m(\u001b[0m\u001b[0;34m*\u001b[0m\u001b[0margs\u001b[0m\u001b[0;34m,\u001b[0m \u001b[0;34m**\u001b[0m\u001b[0mkwargs\u001b[0m\u001b[0;34m)\u001b[0m  \u001b[0;31m# type: ignore[misc]\u001b[0m\u001b[0;34m\u001b[0m\u001b[0;34m\u001b[0m\u001b[0m\n\u001b[1;32m   1735\u001b[0m         \u001b[0;32melse\u001b[0m\u001b[0;34m:\u001b[0m\u001b[0;34m\u001b[0m\u001b[0;34m\u001b[0m\u001b[0m\n\u001b[0;32m-> 1736\u001b[0;31m             \u001b[0;32mreturn\u001b[0m \u001b[0mself\u001b[0m\u001b[0;34m.\u001b[0m\u001b[0m_call_impl\u001b[0m\u001b[0;34m(\u001b[0m\u001b[0;34m*\u001b[0m\u001b[0margs\u001b[0m\u001b[0;34m,\u001b[0m \u001b[0;34m**\u001b[0m\u001b[0mkwargs\u001b[0m\u001b[0;34m)\u001b[0m\u001b[0;34m\u001b[0m\u001b[0;34m\u001b[0m\u001b[0m\n\u001b[0m\u001b[1;32m   1737\u001b[0m \u001b[0;34m\u001b[0m\u001b[0m\n\u001b[1;32m   1738\u001b[0m     \u001b[0;31m# torchrec tests the code consistency with the following code\u001b[0m\u001b[0;34m\u001b[0m\u001b[0;34m\u001b[0m\u001b[0m\n",
            "\u001b[0;32m/usr/local/lib/python3.11/dist-packages/torch/nn/modules/module.py\u001b[0m in \u001b[0;36m_call_impl\u001b[0;34m(self, *args, **kwargs)\u001b[0m\n\u001b[1;32m   1745\u001b[0m                 \u001b[0;32mor\u001b[0m \u001b[0m_global_backward_pre_hooks\u001b[0m \u001b[0;32mor\u001b[0m \u001b[0m_global_backward_hooks\u001b[0m\u001b[0;34m\u001b[0m\u001b[0;34m\u001b[0m\u001b[0m\n\u001b[1;32m   1746\u001b[0m                 or _global_forward_hooks or _global_forward_pre_hooks):\n\u001b[0;32m-> 1747\u001b[0;31m             \u001b[0;32mreturn\u001b[0m \u001b[0mforward_call\u001b[0m\u001b[0;34m(\u001b[0m\u001b[0;34m*\u001b[0m\u001b[0margs\u001b[0m\u001b[0;34m,\u001b[0m \u001b[0;34m**\u001b[0m\u001b[0mkwargs\u001b[0m\u001b[0;34m)\u001b[0m\u001b[0;34m\u001b[0m\u001b[0;34m\u001b[0m\u001b[0m\n\u001b[0m\u001b[1;32m   1748\u001b[0m \u001b[0;34m\u001b[0m\u001b[0m\n\u001b[1;32m   1749\u001b[0m         \u001b[0mresult\u001b[0m \u001b[0;34m=\u001b[0m \u001b[0;32mNone\u001b[0m\u001b[0;34m\u001b[0m\u001b[0;34m\u001b[0m\u001b[0m\n",
            "\u001b[0;32m/usr/local/lib/python3.11/dist-packages/torch/nn/modules/linear.py\u001b[0m in \u001b[0;36mforward\u001b[0;34m(self, input)\u001b[0m\n\u001b[1;32m    123\u001b[0m \u001b[0;34m\u001b[0m\u001b[0m\n\u001b[1;32m    124\u001b[0m     \u001b[0;32mdef\u001b[0m \u001b[0mforward\u001b[0m\u001b[0;34m(\u001b[0m\u001b[0mself\u001b[0m\u001b[0;34m,\u001b[0m \u001b[0minput\u001b[0m\u001b[0;34m:\u001b[0m \u001b[0mTensor\u001b[0m\u001b[0;34m)\u001b[0m \u001b[0;34m->\u001b[0m \u001b[0mTensor\u001b[0m\u001b[0;34m:\u001b[0m\u001b[0;34m\u001b[0m\u001b[0;34m\u001b[0m\u001b[0m\n\u001b[0;32m--> 125\u001b[0;31m         \u001b[0;32mreturn\u001b[0m \u001b[0mF\u001b[0m\u001b[0;34m.\u001b[0m\u001b[0mlinear\u001b[0m\u001b[0;34m(\u001b[0m\u001b[0minput\u001b[0m\u001b[0;34m,\u001b[0m \u001b[0mself\u001b[0m\u001b[0;34m.\u001b[0m\u001b[0mweight\u001b[0m\u001b[0;34m,\u001b[0m \u001b[0mself\u001b[0m\u001b[0;34m.\u001b[0m\u001b[0mbias\u001b[0m\u001b[0;34m)\u001b[0m\u001b[0;34m\u001b[0m\u001b[0;34m\u001b[0m\u001b[0m\n\u001b[0m\u001b[1;32m    126\u001b[0m \u001b[0;34m\u001b[0m\u001b[0m\n\u001b[1;32m    127\u001b[0m     \u001b[0;32mdef\u001b[0m \u001b[0mextra_repr\u001b[0m\u001b[0;34m(\u001b[0m\u001b[0mself\u001b[0m\u001b[0;34m)\u001b[0m \u001b[0;34m->\u001b[0m \u001b[0mstr\u001b[0m\u001b[0;34m:\u001b[0m\u001b[0;34m\u001b[0m\u001b[0;34m\u001b[0m\u001b[0m\n",
            "\u001b[0;31mRuntimeError\u001b[0m: mat1 and mat2 shapes cannot be multiplied (32x384 and 800x64)"
          ]
        }
      ]
    },
    {
      "cell_type": "code",
      "source": [
        "def adaptive_gauss_integrate_cnn(f, a, b, order=5, tolerance=0.01, depth=0, max_depth=10):\n",
        "    \"\"\" 使用 CNN 预测是否需要细分积分区间 \"\"\"\n",
        "    if depth >= max_depth:\n",
        "        return gauss_integrate(f, a, b, order)\n",
        "\n",
        "    # 计算当前区间的 f(x) 作为 CNN 输入\n",
        "    x_values = np.linspace(a, b, 50)\n",
        "    f_values = f(x_values)\n",
        "    input_tensor = torch.tensor(f_values, dtype=torch.float32).unsqueeze(0)\n",
        "\n",
        "    # 让 CNN 预测是否细分\n",
        "    with torch.no_grad():\n",
        "        decision = model(input_tensor).item()\n",
        "\n",
        "    if decision < 0.5:  # CNN 预测无需细分\n",
        "        return gauss_integrate(f, a, b, order)\n",
        "\n",
        "    # CNN 认为需要细分，则递归计算\n",
        "    mid = (a + b) / 2\n",
        "    return (adaptive_gauss_integrate_cnn(f, a, mid, order, tolerance, depth + 1, max_depth) +\n",
        "            adaptive_gauss_integrate_cnn(f, mid, b, order, tolerance, depth + 1, max_depth))\n",
        "\n",
        "# 测试\n",
        "f = lambda x: np.sin(x**2)\n",
        "result = adaptive_gauss_integrate_cnn(f, 0, 10)\n",
        "print(f\"Adaptive Integral: {result:.6f}\")\n"
      ],
      "metadata": {
        "id": "TF_sUxfsBGns"
      },
      "execution_count": null,
      "outputs": []
    },
    {
      "cell_type": "markdown",
      "metadata": {
        "id": "g9xzgq8S9DL0"
      },
      "source": [
        "The approach above can be improved.\n",
        "\n",
        "How do you test the error for each integral? Do you always compare to the tolerance? If so, the total error will not be comparable to the tolerance, but larger than that, since all the errors will accumulate over all the elements when you sum all the contributions to the integral. Can you figure out a way to make it more consistent?"
      ]
    },
    {
      "cell_type": "code",
      "execution_count": null,
      "metadata": {
        "id": "6MKu0dH99DL0"
      },
      "outputs": [],
      "source": []
    }
  ],
  "metadata": {
    "anaconda-cloud": {},
    "kernelspec": {
      "display_name": "Python 3",
      "language": "python",
      "name": "python3"
    },
    "language_info": {
      "codemirror_mode": {
        "name": "ipython",
        "version": 3
      },
      "file_extension": ".py",
      "mimetype": "text/x-python",
      "name": "python",
      "nbconvert_exporter": "python",
      "pygments_lexer": "ipython3",
      "version": "3.8.5"
    },
    "colab": {
      "provenance": [],
      "include_colab_link": true
    }
  },
  "nbformat": 4,
  "nbformat_minor": 0
}